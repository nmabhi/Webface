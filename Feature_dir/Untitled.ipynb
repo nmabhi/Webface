{
 "cells": [
  {
   "cell_type": "code",
   "execution_count": 1,
   "metadata": {
    "collapsed": true
   },
   "outputs": [],
   "source": [
    "import pandas as pd\n",
    "import numpy as np"
   ]
  },
  {
   "cell_type": "code",
   "execution_count": 23,
   "metadata": {},
   "outputs": [],
   "source": [
    "embeddings=pd.read_csv('embeddings.csv')\n"
   ]
  },
  {
   "cell_type": "code",
   "execution_count": 28,
   "metadata": {},
   "outputs": [
    {
     "data": {
      "text/html": [
       "<div>\n",
       "<style>\n",
       "    .dataframe thead tr:only-child th {\n",
       "        text-align: right;\n",
       "    }\n",
       "\n",
       "    .dataframe thead th {\n",
       "        text-align: left;\n",
       "    }\n",
       "\n",
       "    .dataframe tbody tr th {\n",
       "        vertical-align: top;\n",
       "    }\n",
       "</style>\n",
       "<table border=\"1\" class=\"dataframe\">\n",
       "  <thead>\n",
       "    <tr style=\"text-align: right;\">\n",
       "      <th></th>\n",
       "      <th>Unnamed: 0</th>\n",
       "      <th>0</th>\n",
       "      <th>1</th>\n",
       "      <th>2</th>\n",
       "      <th>3</th>\n",
       "      <th>4</th>\n",
       "      <th>5</th>\n",
       "      <th>6</th>\n",
       "      <th>7</th>\n",
       "      <th>8</th>\n",
       "      <th>...</th>\n",
       "      <th>118</th>\n",
       "      <th>119</th>\n",
       "      <th>120</th>\n",
       "      <th>121</th>\n",
       "      <th>122</th>\n",
       "      <th>123</th>\n",
       "      <th>124</th>\n",
       "      <th>125</th>\n",
       "      <th>126</th>\n",
       "      <th>127</th>\n",
       "    </tr>\n",
       "  </thead>\n",
       "  <tbody>\n",
       "    <tr>\n",
       "      <th>0</th>\n",
       "      <td>Shriman</td>\n",
       "      <td>0.010654</td>\n",
       "      <td>0.102186</td>\n",
       "      <td>0.085343</td>\n",
       "      <td>0.111366</td>\n",
       "      <td>0.051246</td>\n",
       "      <td>0.113140</td>\n",
       "      <td>0.016714</td>\n",
       "      <td>-0.142586</td>\n",
       "      <td>0.086939</td>\n",
       "      <td>...</td>\n",
       "      <td>0.113959</td>\n",
       "      <td>0.156113</td>\n",
       "      <td>0.084041</td>\n",
       "      <td>-0.055712</td>\n",
       "      <td>-0.074948</td>\n",
       "      <td>0.100123</td>\n",
       "      <td>0.089271</td>\n",
       "      <td>0.078698</td>\n",
       "      <td>0.080655</td>\n",
       "      <td>-0.059964</td>\n",
       "    </tr>\n",
       "    <tr>\n",
       "      <th>1</th>\n",
       "      <td>Shriman</td>\n",
       "      <td>0.004630</td>\n",
       "      <td>0.171056</td>\n",
       "      <td>0.037819</td>\n",
       "      <td>0.040723</td>\n",
       "      <td>-0.014402</td>\n",
       "      <td>0.167380</td>\n",
       "      <td>-0.012677</td>\n",
       "      <td>-0.041801</td>\n",
       "      <td>0.106762</td>\n",
       "      <td>...</td>\n",
       "      <td>0.220064</td>\n",
       "      <td>0.116528</td>\n",
       "      <td>0.119928</td>\n",
       "      <td>-0.082288</td>\n",
       "      <td>-0.050742</td>\n",
       "      <td>0.088881</td>\n",
       "      <td>0.136381</td>\n",
       "      <td>-0.039299</td>\n",
       "      <td>0.127808</td>\n",
       "      <td>-0.021552</td>\n",
       "    </tr>\n",
       "    <tr>\n",
       "      <th>2</th>\n",
       "      <td>Shriman</td>\n",
       "      <td>0.023361</td>\n",
       "      <td>0.123029</td>\n",
       "      <td>0.050470</td>\n",
       "      <td>0.117905</td>\n",
       "      <td>0.039160</td>\n",
       "      <td>0.155295</td>\n",
       "      <td>-0.047102</td>\n",
       "      <td>-0.143670</td>\n",
       "      <td>0.044940</td>\n",
       "      <td>...</td>\n",
       "      <td>0.104026</td>\n",
       "      <td>0.172125</td>\n",
       "      <td>0.093524</td>\n",
       "      <td>-0.101011</td>\n",
       "      <td>-0.104542</td>\n",
       "      <td>0.044875</td>\n",
       "      <td>0.075668</td>\n",
       "      <td>0.077950</td>\n",
       "      <td>0.104503</td>\n",
       "      <td>-0.023734</td>\n",
       "    </tr>\n",
       "    <tr>\n",
       "      <th>3</th>\n",
       "      <td>Shriman</td>\n",
       "      <td>0.065859</td>\n",
       "      <td>0.091799</td>\n",
       "      <td>0.015506</td>\n",
       "      <td>0.124875</td>\n",
       "      <td>0.003298</td>\n",
       "      <td>0.171261</td>\n",
       "      <td>-0.029486</td>\n",
       "      <td>-0.094612</td>\n",
       "      <td>0.024684</td>\n",
       "      <td>...</td>\n",
       "      <td>0.143596</td>\n",
       "      <td>0.133888</td>\n",
       "      <td>0.071432</td>\n",
       "      <td>-0.135525</td>\n",
       "      <td>-0.042875</td>\n",
       "      <td>0.106044</td>\n",
       "      <td>0.115926</td>\n",
       "      <td>0.060736</td>\n",
       "      <td>0.136038</td>\n",
       "      <td>0.005710</td>\n",
       "    </tr>\n",
       "    <tr>\n",
       "      <th>4</th>\n",
       "      <td>Shriman</td>\n",
       "      <td>-0.016684</td>\n",
       "      <td>0.051855</td>\n",
       "      <td>0.005324</td>\n",
       "      <td>-0.021940</td>\n",
       "      <td>0.055423</td>\n",
       "      <td>0.110600</td>\n",
       "      <td>-0.062536</td>\n",
       "      <td>0.057446</td>\n",
       "      <td>-0.045964</td>\n",
       "      <td>...</td>\n",
       "      <td>0.059726</td>\n",
       "      <td>0.081304</td>\n",
       "      <td>0.084345</td>\n",
       "      <td>0.045121</td>\n",
       "      <td>0.002741</td>\n",
       "      <td>0.141093</td>\n",
       "      <td>0.026653</td>\n",
       "      <td>-0.020410</td>\n",
       "      <td>0.140133</td>\n",
       "      <td>0.090626</td>\n",
       "    </tr>\n",
       "  </tbody>\n",
       "</table>\n",
       "<p>5 rows × 129 columns</p>\n",
       "</div>"
      ],
      "text/plain": [
       "  Unnamed: 0         0         1         2         3         4         5  \\\n",
       "0    Shriman  0.010654  0.102186  0.085343  0.111366  0.051246  0.113140   \n",
       "1    Shriman  0.004630  0.171056  0.037819  0.040723 -0.014402  0.167380   \n",
       "2    Shriman  0.023361  0.123029  0.050470  0.117905  0.039160  0.155295   \n",
       "3    Shriman  0.065859  0.091799  0.015506  0.124875  0.003298  0.171261   \n",
       "4    Shriman -0.016684  0.051855  0.005324 -0.021940  0.055423  0.110600   \n",
       "\n",
       "          6         7         8    ...          118       119       120  \\\n",
       "0  0.016714 -0.142586  0.086939    ...     0.113959  0.156113  0.084041   \n",
       "1 -0.012677 -0.041801  0.106762    ...     0.220064  0.116528  0.119928   \n",
       "2 -0.047102 -0.143670  0.044940    ...     0.104026  0.172125  0.093524   \n",
       "3 -0.029486 -0.094612  0.024684    ...     0.143596  0.133888  0.071432   \n",
       "4 -0.062536  0.057446 -0.045964    ...     0.059726  0.081304  0.084345   \n",
       "\n",
       "        121       122       123       124       125       126       127  \n",
       "0 -0.055712 -0.074948  0.100123  0.089271  0.078698  0.080655 -0.059964  \n",
       "1 -0.082288 -0.050742  0.088881  0.136381 -0.039299  0.127808 -0.021552  \n",
       "2 -0.101011 -0.104542  0.044875  0.075668  0.077950  0.104503 -0.023734  \n",
       "3 -0.135525 -0.042875  0.106044  0.115926  0.060736  0.136038  0.005710  \n",
       "4  0.045121  0.002741  0.141093  0.026653 -0.020410  0.140133  0.090626  \n",
       "\n",
       "[5 rows x 129 columns]"
      ]
     },
     "execution_count": 28,
     "metadata": {},
     "output_type": "execute_result"
    }
   ],
   "source": [
    "embeddings.head()"
   ]
  },
  {
   "cell_type": "code",
   "execution_count": 32,
   "metadata": {},
   "outputs": [
    {
     "data": {
      "text/plain": [
       "Index([u'Unnamed: 0', u'0', u'1', u'2', u'3', u'4', u'5', u'6', u'7', u'8',\n",
       "       ...\n",
       "       u'118', u'119', u'120', u'121', u'122', u'123', u'124', u'125', u'126',\n",
       "       u'127'],\n",
       "      dtype='object', length=129)"
      ]
     },
     "execution_count": 32,
     "metadata": {},
     "output_type": "execute_result"
    }
   ],
   "source": [
    "embeddings.columns"
   ]
  },
  {
   "cell_type": "code",
   "execution_count": 34,
   "metadata": {
    "collapsed": true
   },
   "outputs": [],
   "source": [
    "embeddings.index=embeddings['Unnamed: 0']"
   ]
  },
  {
   "cell_type": "code",
   "execution_count": null,
   "metadata": {
    "collapsed": true
   },
   "outputs": [],
   "source": []
  }
 ],
 "metadata": {
  "kernelspec": {
   "display_name": "Python 2",
   "language": "python",
   "name": "python2"
  },
  "language_info": {
   "codemirror_mode": {
    "name": "ipython",
    "version": 2
   },
   "file_extension": ".py",
   "mimetype": "text/x-python",
   "name": "python",
   "nbconvert_exporter": "python",
   "pygments_lexer": "ipython2",
   "version": "2.7.13"
  }
 },
 "nbformat": 4,
 "nbformat_minor": 2
}
